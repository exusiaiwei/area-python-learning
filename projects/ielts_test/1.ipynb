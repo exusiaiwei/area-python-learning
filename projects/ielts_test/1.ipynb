{
 "cells": [
  {
   "cell_type": "markdown",
   "metadata": {},
   "source": [
    "# 依赖"
   ]
  },
  {
   "cell_type": "code",
   "execution_count": 216,
   "metadata": {},
   "outputs": [],
   "source": [
    "import requests\n",
    "import json"
   ]
  },
  {
   "cell_type": "code",
   "execution_count": 217,
   "metadata": {},
   "outputs": [],
   "source": [
    "def save_to_md(file_path, title, original_essay, improved_essay, scores):\n",
    "    with open(file_path, 'w', encoding='utf-8') as md_file:\n",
    "        # 写入评分标准\n",
    "        md_file.write(\"## Evaluation Criteria\\n\\n\")\n",
    "        for aspect, score in scores.items():\n",
    "            md_file.write(f\"- **{aspect.capitalize()}:** {score} points\\n\")\n",
    "        md_file.write(\"\\n\")\n",
    "\n",
    "        # 写入原始文章\n",
    "        md_file.write(\"## Original Essay\\n\\n\")\n",
    "        md_file.write(original_essay)\n",
    "        md_file.write(\"\\n\\n---\\n\\n\")\n",
    "\n",
    "        # 写入改进后的范文\n",
    "        md_file.write(\"## Improved Essay\\n\\n\")\n",
    "        md_file.write(improved_essay)\n",
    "        md_file.write(\"\\n\\n---\\n\\n\")\n",
    "\n",
    "        # 比较改进前后的不同之处\n",
    "        md_file.write(\"## Changes\\n\\n\")\n",
    "        compare_essays(original_essay, improved_essay, md_file)\n",
    "\n",
    "def compare_essays(original, improved, md_file):\n",
    "    original_lines = original.split('\\n')\n",
    "    improved_lines = improved.split('\\n')\n",
    "\n",
    "    for i in range(min(len(original_lines), len(improved_lines))):\n",
    "        if original_lines[i] != improved_lines[i]:\n",
    "            md_file.write(f\"### Line {i + 1}\\n\")\n",
    "            md_file.write(f\"- Original: {original_lines[i]}\\n\")\n",
    "            md_file.write(f\"- Improved: {improved_lines[i]}\\n\\n\")"
   ]
  },
  {
   "cell_type": "markdown",
   "metadata": {},
   "source": [
    "## 读取 API 密钥"
   ]
  },
  {
   "cell_type": "code",
   "execution_count": 218,
   "metadata": {},
   "outputs": [],
   "source": [
    "\n",
    "with open(\"key.txt\", 'r', encoding='utf-8') as f:\n",
    "    keys = [i.strip() for i in f.readlines()]\n"
   ]
  },
  {
   "cell_type": "markdown",
   "metadata": {},
   "source": [
    "# 定义 ChatAnywhere API 的 URL 和请求头\n"
   ]
  },
  {
   "cell_type": "code",
   "execution_count": 219,
   "metadata": {},
   "outputs": [],
   "source": [
    "with open(\"key.txt\", 'r', encoding='utf-8') as f:\n",
    "    api_key = f.read().strip()\n",
    "chatanywhere_url = \"https://api.chatanywhere.com.cn/v1/chat/completions\"\n",
    "headers = {\n",
    "    'Authorization': f'Bearer {api_key}',\n",
    "    'User-Agent': 'Apifox/1.0.0 (https://apifox.com)',\n",
    "    'Content-Type': 'application/json'\n",
    "}"
   ]
  },
  {
   "cell_type": "markdown",
   "metadata": {},
   "source": [
    "# 读取文章"
   ]
  },
  {
   "cell_type": "code",
   "execution_count": 220,
   "metadata": {},
   "outputs": [],
   "source": [
    "\n",
    "def get_essay():\n",
    "    with open(\"ielts_essay.txt\", 'r', encoding='utf-8') as f:\n",
    "        text = f.read().split(\"\\n\\n\")\n",
    "    title = text[0].strip() + \"\\n\"\n",
    "    passage = text[1].strip()\n",
    "    return title, passage"
   ]
  },
  {
   "cell_type": "markdown",
   "metadata": {},
   "source": [
    "## 聊天机器人交互"
   ]
  },
  {
   "cell_type": "code",
   "execution_count": 221,
   "metadata": {},
   "outputs": [],
   "source": [
    "def ask_chatanywhere(query):\n",
    "    payload = json.dumps({\n",
    "        \"model\": \"gpt-3.5-turbo\",\n",
    "        \"messages\": [\n",
    "            {\n",
    "                \"role\": \"user\",\n",
    "                \"content\": query\n",
    "            }\n",
    "        ]\n",
    "    })\n",
    "\n",
    "    response = requests.post(chatanywhere_url, headers=headers, data=payload)\n",
    "    response_json = response.json()\n",
    "    return response_json['choices'][0]['message']['content']\n"
   ]
  },
  {
   "cell_type": "markdown",
   "metadata": {},
   "source": [
    "# 清理文本"
   ]
  },
  {
   "cell_type": "code",
   "execution_count": 222,
   "metadata": {},
   "outputs": [],
   "source": [
    "def clean(text):\n",
    "    text = text.replace('<br>', \"\\n\")\n",
    "    return text"
   ]
  },
  {
   "cell_type": "markdown",
   "metadata": {},
   "source": [
    "# 整体评估"
   ]
  },
  {
   "cell_type": "markdown",
   "metadata": {},
   "source": [
    "# 执行整体评估"
   ]
  },
  {
   "cell_type": "code",
   "execution_count": 223,
   "metadata": {},
   "outputs": [],
   "source": [
    "def overall_assess():\n",
    "    short_names = {'ta': 'Task Achievement', 'cc': 'Coherence and Cohesion', 'lr': 'Lexical Resource', 'gra': 'Grammatical Range and Accuracy'}\n",
    "    overall_assessments = []\n",
    "    prompts = load_prompt(task=2)\n",
    "    prefix = \"Here is the task description:\\n\"\n",
    "    \n",
    "    infix = \"Here is the essay for evaluation:\\n\"\n",
    "\n",
    "    title, passage = get_essay()\n",
    "    done = []\n",
    "    while True:\n",
    "        for prompt in prompts:\n",
    "            if prompt[0] in done:\n",
    "                continue\n",
    "            query = prompt[1] + \"\\n\" + prefix + title + \"\\n\" + infix + passage\n",
    "            try:\n",
    "                response = requests.post(\"https://api.chatanywhere.com.cn/v1/chat/completions\", json={\n",
    "                    \"data\": [\n",
    "                        [[query, None]],\n",
    "                        keys,\n",
    "                    ]\n",
    "                }, headers={'Accept': 'application/json'}).json()\n",
    "\n",
    "                improved_essay = response[\"data\"][0][-1][1]\n",
    "                overall_assessments.append(clean(improved_essay))\n",
    "                done.append(prompt[0])\n",
    "            except Exception as e:\n",
    "                print(f\"Error processing {prompt[0]}: {str(e)}\")\n",
    "                continue\n",
    "            print(len(done))\n",
    "        if len(done) == 4:\n",
    "            break\n",
    "\n",
    "    return title, passage, done, overall_assessments, improved_essay\n"
   ]
  },
  {
   "cell_type": "markdown",
   "metadata": {},
   "source": [
    "##  在Jupyter中展示结果\n"
   ]
  },
  {
   "cell_type": "code",
   "execution_count": 224,
   "metadata": {},
   "outputs": [
    {
     "name": "stdout",
     "output_type": "stream",
     "text": [
      "## Task Description\n",
      "The debate over the role of punishment in teaching children right from wrong has been a contentious issue. While some argue that punishment is a necessary tool for instilling moral values, I firmly believe that a more effective approach lies in positive reinforcement and constructive guidance.\n",
      "\n",
      "## Essay:\n",
      "From a young age, children should be taught about the consequences of their actions. However, it is important to note that their understanding of these consequences is largely dependent on their developmental stage. For very young children, punishments may not be fully understood and can instead instill fear or confusion. Instead, positive reinforcement of good behavior and gentle discouragement of negative actions can be more effective at this stage.\n",
      "\n",
      "---\n",
      "\n",
      "\n",
      "## Task Achievement\n",
      "{\"id\":\"chatcmpl-8JwggWU78L7k2KDbg1QIDqxDf6OlL\",\"object\":\"chat.completion\",\"created\":1699764518,\"model\":\"gpt-3.5-turbo-1106\",\"choices\":[{\"index\":0,\"message\":{\"role\":\"assistant\",\"content\":\"The essay adequately addresses the given topic by discussing the role of punishment in teaching children right from wrong. The candidate clearly states their opinion on the issue and presents their arguments in a coherent manner.\\n\\nThe candidate effectively acknowledges the importance of considering the developmental stage of children when discussing punishment. By highlighting that punishments may not be fully understood by very young children and can instead instill fear or confusion, the candidate demonstrates a clear understanding of the topic. Additionally, the suggestion of positive reinforcement of good behavior and gentle discouragement of negative actions for very young children aligns with their position on the issue.\\n\\nHowever, the candidate's discussion is limited in scope. While they effectively present their position and relevant arguments for very young children, they do not extend their discussion to older children or provide a more comprehensive analysis of the topic. This limited scope does not fully address the complexity of the issue and lacks depth in the evaluation of the topic.\\n\\nIn conclusion, the essay demonstrates a clear position on the issue of punishment in teaching children right from wrong, and the candidate presents their arguments effectively. However, the limited scope of the discussion and lack of depth in the evaluation of the topic indicate a scoring band of 6. While the essay identifies the main ideas of the topic and presents them coherently for very young children, it does not demonstrate a clear position throughout the writing with supporting ideas or provide an insightful evaluation of the topic with relevant and developed ideas.\"},\"finish_reason\":\"stop\"}],\"usage\":{\"prompt_tokens\":371,\"completion_tokens\":286,\"total_tokens\":657},\"system_fingerprint\":\"fp_eeff13170a\"}\n",
      "\n",
      "\n",
      "## Coherence and Cohesion\n",
      "{\"id\":\"chatcmpl-8JwgkpXxOTTz2X3OYUqkFY2hOC96v\",\"object\":\"chat.completion\",\"created\":1699764522,\"model\":\"gpt-3.5-turbo-1106\",\"choices\":[{\"index\":0,\"message\":{\"role\":\"assistant\",\"content\":\"The essay clearly introduces the topic and presents a well-structured argument on the role of punishment in teaching children right from wrong. The introduction is clear and sets the stage for the rest of the essay. The candidate effectively organizes their ideas by first discussing the importance of teaching consequences to children and then providing a specific example related to the developmental stage of young children. The use of specific examples adds depth to the argument and helps the reader understand the position of the writer.\\n\\nHowever, there are some flaws in the coherence and cohesion of the essay. While the essay provides a logical flow of ideas, there is limited use of cohesive devices to link the sentences and paragraphs. The lack of transitional phrases or connectors can make the essay feel disjointed at times, and the overall cohesion of the essay could be improved with the use of more varied and precise connectors. For example, the writer could have used connectors like \\\"in addition\\\" or \\\"furthermore\\\" to better connect their ideas and improve the overall coherence and cohesion of the essay.\\n\\nIn summary, the essay effectively organizes and connects its ideas, but there is a lack of varied and precise connectors to improve the overall coherence and cohesion. Therefore, I would recommend a score of 6 for this essay in terms of Coherence and Cohesion. While the essay demonstrates some abilities to organize ideas logically and connect them with basic connectors, it lacks the use of a range of cohesive devices to link sentences and paragraphs, which is necessary for a higher band score.\"},\"finish_reason\":\"stop\"}],\"usage\":{\"prompt_tokens\":356,\"completion_tokens\":300,\"total_tokens\":656},\"system_fingerprint\":\"fp_eeff13170a\"}\n",
      "\n",
      "\n",
      "## Lexical Resource\n",
      "{\"id\":\"chatcmpl-8JwgnrSVy5V3p0B65Ftx2yeHQ18mM\",\"object\":\"chat.completion\",\"created\":1699764525,\"model\":\"gpt-3.5-turbo-1106\",\"choices\":[{\"index\":0,\"message\":{\"role\":\"assistant\",\"content\":\"The candidate has demonstrated a good range of vocabulary in expressing their ideas on the role of punishment in teaching children right from wrong. They have used words such as \\\"contentious\\\", \\\"instilling\\\", \\\"effective\\\", \\\"consequences\\\", \\\"developmental stage\\\", \\\"positive reinforcement\\\", \\\"discouragement\\\" effectively, which shows a moderate level of vocabulary.\\n\\nThe candidate has also used the phrase \\\"right from wrong\\\" and \\\"consequences of their actions\\\" which are idiomatic expressions, and have been used appropriately.\\n\\nHowever, the candidate has used basic words such as \\\"punishment\\\", \\\"fear\\\", and \\\"confusion\\\" and there is absence of less common vocabulary. For example, they have repeatedly used the word \\\"children\\\" and have not used any synonyms such as \\\"youth\\\" or \\\"youngsters\\\".\\n\\nThe essay lacks a higher level of vocabulary that is precise and a great range of idiomatic expressions, which is expected for a band 8 score.\\n\\nOverall, the candidate has shown a good range of vocabulary and has used idiomatic expressions appropriately, but some basic words and absence of less common vocabulary prevent this essay from scoring higher in terms of Lexical Resource. Therefore, I'd recommend a score of 6 for Lexical Resource.\"},\"finish_reason\":\"stop\"}],\"usage\":{\"prompt_tokens\":387,\"completion_tokens\":250,\"total_tokens\":637},\"system_fingerprint\":\"fp_eeff13170a\"}\n",
      "\n",
      "\n",
      "## Grammatical Range and Accuracy\n",
      "{\"id\":\"chatcmpl-8JwgrmPx9a5PgXfiBzxhiwmaGUieL\",\"object\":\"chat.completion\",\"created\":1699764529,\"model\":\"gpt-3.5-turbo-1106\",\"choices\":[{\"index\":0,\"message\":{\"role\":\"assistant\",\"content\":\"This essay demonstrates a good command of grammatical structures and showcases a mix of simple and complex sentences that are used accurately and effectively to convey the writer's ideas. The writer effectively utilizes complex structures, such as \\\"from a young age\\\" and \\\"is largely dependent on their developmental stage\\\", to express their arguments coherently. Additionally, the use of a variety of sentence structures, such as the compound-complex sentence \\\"For very young children, punishments may not be fully understood and can instead instill fear or confusion\\\", showcases the writer's ability to manipulate language effectively.\\n\\nThere are minimal grammatical errors in the essay, such as the absence of a comma after the introductory phrase \\\"instead\\\" in the sentence \\\"Instead, positive reinforcement of good behavior...\\\", which does not significantly detract from the overall clarity and precision of the message. The essay shows a high level of grammatical accuracy, with only occasional minor errors in the form of missing punctuation.\\n\\nOverall, this essay demonstrates a strong command of grammatical range and accuracy. The candidate effectively uses a mix of simple and complex grammatical structures to express their ideas clearly and cohesively. Additionally, the essay shows a high level of grammatical accuracy with only minor errors. As such, this essay would likely score at a band 7 for Grammatical Range and Accuracy.\"},\"finish_reason\":\"stop\"}],\"usage\":{\"prompt_tokens\":389,\"completion_tokens\":265,\"total_tokens\":654},\"system_fingerprint\":\"fp_eeff13170a\"}\n",
      "\n",
      "\n"
     ]
    }
   ],
   "source": [
    "print(\"## Task Description\\n\" + title + \"\\n\" + \"## Essay:\\n\" + passage.replace(\"\\n\", \"\\n\\n\") + \"\\n\\n---\\n\\n\")\n",
    "for short_name, feedback in zip(done, overall_assessments):\n",
    "    print(\"## \" + short_names[short_name] + \"\\n\" + feedback + \"\\n\\n\")"
   ]
  },
  {
   "cell_type": "markdown",
   "metadata": {},
   "source": [
    "# 或：保存到markdown文件"
   ]
  },
  {
   "cell_type": "code",
   "execution_count": 225,
   "metadata": {},
   "outputs": [],
   "source": [
    "save_to_md(\"ielts_feedback.md\", title, passage, overall_assessments[0], {\"Task Achievement\": 7, \"Coherence and Cohesion\": 6, \"Lexical Resource\": 7, \"Grammatical Range and Accuracy\": 7})\n"
   ]
  }
 ],
 "metadata": {
  "kernelspec": {
   "display_name": "Py3.10.9",
   "language": "python",
   "name": "python3"
  },
  "language_info": {
   "codemirror_mode": {
    "name": "ipython",
    "version": 3
   },
   "file_extension": ".py",
   "mimetype": "text/x-python",
   "name": "python",
   "nbconvert_exporter": "python",
   "pygments_lexer": "ipython3",
   "version": "3.10.9"
  }
 },
 "nbformat": 4,
 "nbformat_minor": 2
}
