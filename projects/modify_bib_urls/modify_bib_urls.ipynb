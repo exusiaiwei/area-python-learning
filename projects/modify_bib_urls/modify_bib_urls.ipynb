{
 "cells": [
  {
   "cell_type": "markdown",
   "metadata": {},
   "source": [
    "# 导入\n",
    "# Import"
   ]
  },
  {
   "cell_type": "code",
   "execution_count": 2,
   "metadata": {},
   "outputs": [],
   "source": [
    "# 导入 Python 的 re 模块，这个模块提供对正则表达式的支持\n",
    "# Import the Python's re module, which provides support for regular expressions\n",
    "import re\n"
   ]
  },
  {
   "cell_type": "markdown",
   "metadata": {},
   "source": [
    "# 读取并匹配URL的代码块\n",
    "# Code Block for Reading and Matching URLs"
   ]
  },
  {
   "cell_type": "code",
   "execution_count": 3,
   "metadata": {},
   "outputs": [],
   "source": [
    "# 打开名为 'bibliography.bib' 的文件，并读取其中的内容\n",
    "# Open the file named 'bibliography.bib' and read its contents\n",
    "with open('bibliography.bib', 'r') as f:\n",
    "    content = f.read()\n",
    "\n",
    "# 定义一个匹配 URL 的正则表达式\n",
    "# Define a regular expression that matches URLs\n",
    "pattern = r'http[s]?://(?:[a-zA-Z]|[0-9]|[$-_@.&+]|[!*\\\\(\\\\),]|(?:%[0-9a-fA-F][0-9a-fA-F]))+'\n"
   ]
  },
  {
   "cell_type": "markdown",
   "metadata": {},
   "source": [
    "# 从文本内容中提取并修改URL\n",
    "\n",
    "# Extracting and Modifying URLs from Text Content"
   ]
  },
  {
   "cell_type": "code",
   "execution_count": 4,
   "metadata": {},
   "outputs": [],
   "source": [
    "# 从文本内容中找出所有与正则表达式匹配的 URL\n",
    "# Find all URLs from the content that match the regular expression\n",
    "urls = re.findall(pattern, content)\n",
    "\n",
    "# 对每个 URL，在其外部添加 \\url{} 命令\n",
    "# For each URL, add the \\url{} command around it\n",
    "for url in urls:\n",
    "    new_url = r'\\url{' + url + '}'\n",
    "\n",
    "    # 在文本内容中，将原 URL 替换为新的 URL\n",
    "    # Replace the original URL with the new URL in the content\n",
    "    content = content.replace(url, new_url)\n"
   ]
  },
  {
   "cell_type": "markdown",
   "metadata": {},
   "source": [
    "# 修改和保存\n",
    "# Save the modified"
   ]
  },
  {
   "cell_type": "code",
   "execution_count": 6,
   "metadata": {},
   "outputs": [],
   "source": [
    "# 把修改后的内容保存到一个新的 .bib 文件中\n",
    "# Save the modified content to a new .bib file\n",
    "\n",
    "with open('bibliography_new.bib', 'w') as f:\n",
    "    f.write(content)"
   ]
  }
 ],
 "metadata": {
  "kernelspec": {
   "display_name": "Py3.10.9",
   "language": "python",
   "name": "python3"
  },
  "language_info": {
   "codemirror_mode": {
    "name": "ipython",
    "version": 3
   },
   "file_extension": ".py",
   "mimetype": "text/x-python",
   "name": "python",
   "nbconvert_exporter": "python",
   "pygments_lexer": "ipython3",
   "version": "3.10.9"
  }
 },
 "nbformat": 4,
 "nbformat_minor": 2
}
