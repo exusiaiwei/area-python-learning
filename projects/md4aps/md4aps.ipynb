{
 "cells": [
  {
   "cell_type": "code",
   "execution_count": null,
   "metadata": {},
   "outputs": [],
   "source": [
    "# 批量从excel课程表里创建每门课程的md资料卡\n",
    "\n",
    "# Batch create markdown data cards for each course from the Excel course schedule\n"
   ]
  },
  {
   "cell_type": "code",
   "execution_count": 5,
   "metadata": {},
   "outputs": [],
   "source": [
    "import os\n",
    "import pandas as pd"
   ]
  },
  {
   "cell_type": "markdown",
   "metadata": {},
   "source": [
    "## 读取Excel文件"
   ]
  },
  {
   "cell_type": "code",
   "execution_count": 6,
   "metadata": {},
   "outputs": [],
   "source": [
    "excel_path = r\"\"\n",
    "df = pd.read_excel(excel_path)"
   ]
  },
  {
   "cell_type": "markdown",
   "metadata": {},
   "source": [
    "## 创建Markdown文件"
   ]
  },
  {
   "cell_type": "code",
   "execution_count": 7,
   "metadata": {},
   "outputs": [],
   "source": [
    "output_dir = r\"\"\n",
    "for index, row in df.iterrows():\n",
    "    course_name = row['Course']\n",
    "    sort = row['Sort']\n",
    "    grade = row['Grade']\n",
    "\n",
    "    # 创建文件夹\n",
    "    folder_path = os.path.join(output_dir, sort)\n",
    "    os.makedirs(folder_path, exist_ok=True)\n",
    "\n",
    "    # 创建Markdown文件\n",
    "    sanitized_course_name = \"\".join([c for c in course_name if c.isalnum() or c in {'-', '_', ' '}])\n",
    "    md_file_path = os.path.join(folder_path, f\"{sanitized_course_name}.md\")\n",
    "    with open(md_file_path, 'w', encoding='utf-8') as md_file:\n",
    "        # 写入yml元数据\n",
    "        md_file.write(f\"---\\n\")\n",
    "        md_file.write(f\"sort: {sort}\\n\")\n",
    "        md_file.write(f\"grade: {grade}\\n\")\n",
    "        md_file.write(f\"---\\n\\n\")\n",
    "        # 写入课程名称\n",
    "        md_file.write(f\"# {course_name}\\n\\n\")\n",
    "        # 可以添加其他内容或留空"
   ]
  },
  {
   "cell_type": "markdown",
   "metadata": {},
   "source": [
    "## 完成 "
   ]
  },
  {
   "cell_type": "code",
   "execution_count": null,
   "metadata": {},
   "outputs": [],
   "source": [
    "print(\"Markdown文件创建完成！\")"
   ]
  },
  {
   "cell_type": "markdown",
   "metadata": {},
   "source": [
    "# 对每个文件夹下的md文件创建总结文件"
   ]
  },
  {
   "cell_type": "code",
   "execution_count": 2,
   "metadata": {},
   "outputs": [
    {
     "name": "stdout",
     "output_type": "stream",
     "text": [
      "Merged contents of 基础课程 into 基础课程.md\n",
      "Merged contents of 语言学 into 语言学.md\n",
      "Merged contents of 文学 into 文学.md\n",
      "Merged contents of 其他课程 into 其他课程.md\n",
      "Merged contents of 论文 into 论文.md\n"
     ]
    }
   ],
   "source": [
    "import os\n",
    "\n",
    "def merge_md_files(folder_path):\n",
    "    folder_name = os.path.basename(folder_path)\n",
    "    output_file_path = f\"{folder_name}.md\"\n",
    "\n",
    "    with open(output_file_path, 'w', encoding='utf-8') as output_file:\n",
    "        for root, dirs, files in os.walk(folder_path):\n",
    "            for file in files:\n",
    "                if file.endswith('.md'):\n",
    "                    file_path = os.path.join(root, file)\n",
    "                    with open(file_path, 'r', encoding='utf-8') as input_file:\n",
    "                        lines = input_file.readlines()\n",
    "                        start_copying = True\n",
    "                        for line in lines:\n",
    "                            if line.strip() == '---':\n",
    "                                start_copying = not start_copying\n",
    "                            elif start_copying:\n",
    "                                output_file.write(line)\n",
    "\n",
    "    print(f\"Merged contents of {folder_name} into {output_file_path}\")\n",
    "\n",
    "if __name__ == \"__main__\":\n",
    "    root_directory = r\"**\"\n",
    "    folders = [\"基础课程\", \"语言学\", \"文学\", \"其他课程\", \"论文\"]\n",
    "\n",
    "    for folder in folders:\n",
    "        folder_path = os.path.join(root_directory, folder)\n",
    "        merge_md_files(folder_path)\n"
   ]
  }
 ],
 "metadata": {
  "kernelspec": {
   "display_name": "Py3.10.9",
   "language": "python",
   "name": "python3"
  },
  "language_info": {
   "codemirror_mode": {
    "name": "ipython",
    "version": 3
   },
   "file_extension": ".py",
   "mimetype": "text/x-python",
   "name": "python",
   "nbconvert_exporter": "python",
   "pygments_lexer": "ipython3",
   "version": "3.12.1"
  }
 },
 "nbformat": 4,
 "nbformat_minor": 2
}
